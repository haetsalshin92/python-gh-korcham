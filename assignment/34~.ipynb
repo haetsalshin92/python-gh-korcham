{
 "cells": [
  {
   "cell_type": "code",
   "execution_count": null,
   "metadata": {},
   "outputs": [
    {
     "name": "stdout",
     "output_type": "stream",
     "text": [
      "[10, 20, 30, 40, 50, 60]\n"
     ]
    }
   ],
   "source": [
    "a=[20,50,30,10,60,40]\n",
    "for i in range(0,5):\n",
    "    m = i\n",
    "    for j in range(i+1,6):\n",
    "        if a[j] < a[m]:\n",
    "            m = j\n",
    "    temp = a[i]\n",
    "    a[i] = a[m]\n",
    "    a[m] = temp\n",
    "print(a)\n",
    "\n"
   ]
  },
  {
   "cell_type": "code",
   "execution_count": 3,
   "metadata": {},
   "outputs": [
    {
     "name": "stdout",
     "output_type": "stream",
     "text": [
      "[10, 20, 30, 40, 50, 60]\n"
     ]
    }
   ],
   "source": [
    "a=[20,50,30,10,60,40]\n",
    "a.sort()\n",
    "print(a)"
   ]
  },
  {
   "cell_type": "code",
   "execution_count": 4,
   "metadata": {},
   "outputs": [
    {
     "name": "stdout",
     "output_type": "stream",
     "text": [
      "[10, 20, 30, 40, 50, 60]\n"
     ]
    }
   ],
   "source": [
    "a= [20, 50,30, 10,60,40]\n",
    "for i in range(0,5):\n",
    "    for j in range(0,5-i):\n",
    "        if a[j]>a[j+1]:\n",
    "            temp = a[j]\n",
    "            a[j] = a[j+1]\n",
    "            a[j+1] = temp\n",
    "print(a)"
   ]
  },
  {
   "cell_type": "code",
   "execution_count": 5,
   "metadata": {},
   "outputs": [
    {
     "name": "stdout",
     "output_type": "stream",
     "text": [
      "[1, 3, 3, 4, 5, 7, 8, 10]\n"
     ]
    }
   ],
   "source": [
    "a=[1,3,5,7]\n",
    "b=[3,4,8,10]\n",
    "c=[]\n",
    "i = 0\n",
    "j = 0\n",
    "while i<4 and j<4:\n",
    "    if a[i]<b[j]:\n",
    "        c.append(a[i])\n",
    "        i = i+1\n",
    "    else:\n",
    "        c.append(b[j])\n",
    "        j = j+1\n",
    "if i ==4:\n",
    "    while j<4:\n",
    "        c.append(b[j])\n",
    "        j=j+1\n",
    "else:\n",
    "    while i<4:\n",
    "        c.append(a[i])\n",
    "        i = i+1\n",
    "print(c)\n",
    "    "
   ]
  },
  {
   "cell_type": "code",
   "execution_count": 6,
   "metadata": {},
   "outputs": [
    {
     "name": "stdout",
     "output_type": "stream",
     "text": [
      "안녕하새우\n"
     ]
    }
   ],
   "source": [
    "def hello():\n",
    "    print(\"안녕하새우\")\n",
    "hello()"
   ]
  },
  {
   "cell_type": "code",
   "execution_count": 8,
   "metadata": {},
   "outputs": [
    {
     "name": "stdout",
     "output_type": "stream",
     "text": [
      "안녕 파이썬\n"
     ]
    }
   ],
   "source": [
    "def hello(name):\n",
    "    print(\"안녕\",name)\n",
    "hello(\"파이썬\")"
   ]
  },
  {
   "cell_type": "code",
   "execution_count": 9,
   "metadata": {},
   "outputs": [
    {
     "name": "stdout",
     "output_type": "stream",
     "text": [
      "81\n"
     ]
    }
   ],
   "source": [
    "def power(a,b):\n",
    "    c = a**b\n",
    "    return c\n",
    "a = power(3,4)\n",
    "print(a)"
   ]
  },
  {
   "cell_type": "code",
   "execution_count": 10,
   "metadata": {},
   "outputs": [
    {
     "name": "stdout",
     "output_type": "stream",
     "text": [
      "7\n"
     ]
    }
   ],
   "source": [
    "def func(a,b):\n",
    "    if a>b:\n",
    "        return a\n",
    "    else:\n",
    "        return b\n",
    "a = int(input(\"정수 :\"))\n",
    "b = int(input(\"정수 :\"))\n",
    "r = func(a,b)\n",
    "print(r)"
   ]
  },
  {
   "cell_type": "code",
   "execution_count": 11,
   "metadata": {},
   "outputs": [
    {
     "name": "stdout",
     "output_type": "stream",
     "text": [
      "6\n"
     ]
    }
   ],
   "source": [
    "def func(a,b,c):\n",
    "    if a>b:\n",
    "        if a>c:\n",
    "            return a\n",
    "        else:\n",
    "            return c\n",
    "    else:\n",
    "        if b>c:\n",
    "            return b\n",
    "        else:\n",
    "            return c\n",
    "a=int(input(\"정수\"))\n",
    "b=int(input(\"정수\"))\n",
    "c=int(input(\"정수\"))\n",
    "r=func(a,b,c)\n",
    "print(r)"
   ]
  },
  {
   "cell_type": "code",
   "execution_count": 12,
   "metadata": {},
   "outputs": [
    {
     "name": "stdout",
     "output_type": "stream",
     "text": [
      "1 : 1 \n",
      "2 : 1 2 \n",
      "3 : 1 3 \n",
      "4 : 1 2 4 \n",
      "5 : 1 5 \n",
      "6 : 1 2 3 6 \n",
      "7 : 1 7 \n",
      "8 : 1 2 4 8 \n",
      "9 : 1 3 9 \n",
      "10 : 1 2 5 10 \n"
     ]
    }
   ],
   "source": [
    "def func(a):\n",
    "    for i in range(1, a+1):\n",
    "        if a%i==0:\n",
    "            print(i, end=\" \")\n",
    "for i in range(1, 11):\n",
    "    print(i, \":\", end=\" \")\n",
    "    func(i)\n",
    "    print()"
   ]
  },
  {
   "cell_type": "code",
   "execution_count": 13,
   "metadata": {},
   "outputs": [
    {
     "name": "stdout",
     "output_type": "stream",
     "text": [
      "55\n"
     ]
    }
   ],
   "source": [
    "def s(a):\n",
    "    if a<=1:\n",
    "        return 1\n",
    "    return a+s(a-1)\n",
    "n = int(input(\"정수:\"))\n",
    "result = s(n)\n",
    "print(result)"
   ]
  },
  {
   "cell_type": "code",
   "execution_count": 14,
   "metadata": {},
   "outputs": [
    {
     "name": "stdout",
     "output_type": "stream",
     "text": [
      "13\n"
     ]
    }
   ],
   "source": [
    "def fibo(a):\n",
    "    if a<=2:\n",
    "        return 1\n",
    "    return fibo(a-1)+fibo(a-2)\n",
    "n = int(input(\"정수:\"))\n",
    "result = fibo(n)\n",
    "print(result)"
   ]
  }
 ],
 "metadata": {
  "kernelspec": {
   "display_name": "Python 3",
   "language": "python",
   "name": "python3"
  },
  "language_info": {
   "codemirror_mode": {
    "name": "ipython",
    "version": 3
   },
   "file_extension": ".py",
   "mimetype": "text/x-python",
   "name": "python",
   "nbconvert_exporter": "python",
   "pygments_lexer": "ipython3",
   "version": "3.13.2"
  }
 },
 "nbformat": 4,
 "nbformat_minor": 2
}
